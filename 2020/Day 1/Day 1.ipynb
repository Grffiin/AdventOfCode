{
 "cells": [
  {
   "cell_type": "markdown",
   "metadata": {},
   "source": [
    "# Advent of Code 2020\n",
    "## Day 1\n",
    "### By: Grffiin"
   ]
  },
  {
   "cell_type": "markdown",
   "metadata": {},
   "source": [
    "## Part 1"
   ]
  },
  {
   "cell_type": "code",
   "execution_count": 2,
   "metadata": {},
   "outputs": [
    {
     "data": {
      "text/plain": [
       "200-element Array{Float64,1}:\n",
       " 1695.0\n",
       " 1157.0\n",
       " 1484.0\n",
       " 1717.0\n",
       "  622.0\n",
       " 1513.0\n",
       " 1924.0\n",
       "   63.0\n",
       " 1461.0\n",
       " 1971.0\n",
       " 1382.0\n",
       " 1587.0\n",
       " 1913.0\n",
       "    ⋮\n",
       " 1523.0\n",
       " 1776.0\n",
       " 1598.0\n",
       " 1113.0\n",
       " 1144.0\n",
       " 1777.0\n",
       " 1313.0\n",
       " 1102.0\n",
       " 1999.0\n",
       " 1405.0\n",
       " 1784.0\n",
       " 1196.0"
      ]
     },
     "execution_count": 2,
     "metadata": {},
     "output_type": "execute_result"
    }
   ],
   "source": [
    "# Read in input file\n",
    "nums = readlines(\"input.txt\");\n",
    "nums = map(x->parse(Float64,x),nums)"
   ]
  },
  {
   "cell_type": "code",
   "execution_count": 9,
   "metadata": {},
   "outputs": [
    {
     "name": "stdout",
     "output_type": "stream",
     "text": [
      "INPUT ANSWER: 259716.0INPUT ANSWER: 259716.0"
     ]
    }
   ],
   "source": [
    "for x in nums\n",
    "    for y in nums\n",
    "        if x + y == 2020\n",
    "            print(\"INPUT ANSWER: \")\n",
    "            print(x*y)\n",
    "        end\n",
    "    end\n",
    "end"
   ]
  },
  {
   "cell_type": "markdown",
   "metadata": {},
   "source": [
    "## Part 2"
   ]
  },
  {
   "cell_type": "code",
   "execution_count": 6,
   "metadata": {},
   "outputs": [
    {
     "name": "stdout",
     "output_type": "stream",
     "text": [
      "INPUT ANSWER: \n",
      "272.0\n",
      "308.0\n",
      "1440.0\n",
      "INPUT ANSWER: \n",
      "272.0\n",
      "1440.0\n",
      "308.0\n",
      "INPUT ANSWER: \n",
      "308.0\n",
      "272.0\n",
      "1440.0\n",
      "INPUT ANSWER: \n",
      "308.0\n",
      "1440.0\n",
      "272.0\n",
      "INPUT ANSWER: \n",
      "1440.0\n",
      "272.0\n",
      "308.0\n",
      "INPUT ANSWER: \n",
      "1440.0\n",
      "308.0\n",
      "272.0\n"
     ]
    }
   ],
   "source": [
    "n = []\n",
    "for x in nums\n",
    "    for y in nums\n",
    "        for z in nums\n",
    "            if x + y + z == 2020\n",
    "                println(\"INPUT ANSWER: \")\n",
    "                println(x)\n",
    "                println(y)\n",
    "                println(z)\n",
    "                n = [x, y, z]\n",
    "            end\n",
    "        end\n",
    "    end\n",
    "end"
   ]
  },
  {
   "cell_type": "code",
   "execution_count": 8,
   "metadata": {},
   "outputs": [
    {
     "data": {
      "text/plain": [
       "1.2063744e8"
      ]
     },
     "execution_count": 8,
     "metadata": {},
     "output_type": "execute_result"
    }
   ],
   "source": [
    "n = n[1]*n[2]*n[3]\n",
    "# 120637440"
   ]
  },
  {
   "cell_type": "code",
   "execution_count": null,
   "metadata": {},
   "outputs": [],
   "source": []
  }
 ],
 "metadata": {
  "kernelspec": {
   "display_name": "Julia 1.5.2",
   "language": "julia",
   "name": "julia-1.5"
  },
  "language_info": {
   "file_extension": ".jl",
   "mimetype": "application/julia",
   "name": "julia",
   "version": "1.5.2"
  }
 },
 "nbformat": 4,
 "nbformat_minor": 4
}
