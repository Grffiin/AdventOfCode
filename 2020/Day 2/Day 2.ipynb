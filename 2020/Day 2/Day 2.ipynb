{
 "cells": [
  {
   "cell_type": "code",
   "execution_count": 8,
   "metadata": {},
   "outputs": [
    {
     "data": {
      "text/plain": [
       "1000×2 Array{String,2}:\n",
       " \"4-8 n\"    \" dnjjrtclnzdnghnbnn\"\n",
       " \"5-6 r\"    \" rrrrcqr\"\n",
       " \"2-4 p\"    \" pqhpppwpfmr\"\n",
       " \"1-13 p\"   \" spppppppppppvp\"\n",
       " \"5-6 x\"    \" xfwxxxxx\"\n",
       " \"19-20 n\"  \" nnnnsnnnnnnnnnnnnnnn\"\n",
       " \"1-4 z\"    \" zvzhbp\"\n",
       " \"5-6 d\"    \" ddddhd\"\n",
       " \"13-17 j\"  \" jjjjjjjjjjjtdrjjgj\"\n",
       " \"1-16 p\"   \" tppqpppppppppcpspppp\"\n",
       " \"15-16 r\"  \" rrzrsrrrprqrrrmdrrr\"\n",
       " \"1-5 z\"    \" lqzdzqfz\"\n",
       " \"1-18 s\"   \" nssssssslsssslshssx\"\n",
       " ⋮          \n",
       " \"4-5 k\"    \" kkkdw\"\n",
       " \"10-16 j\"  \" jqvhdjgmkjckjlpg\"\n",
       " \"6-11 q\"   \" vqdnfbqqgqmqqqqq\"\n",
       " \"8-11 q\"   \" qqrqqqqqlkq\"\n",
       " \"8-11 v\"   \" wvvvvvvvfvvvrvvj\"\n",
       " \"8-13 s\"   \" ssssssssscsfsss\"\n",
       " \"6-8 w\"    \" pwwtwwlwwhww\"\n",
       " \"8-9 f\"    \" ffffjfflb\"\n",
       " \"2-4 v\"    \" jvgxmphvr\"\n",
       " \"2-6 r\"    \" rrzrcd\"\n",
       " \"10-16 n\"  \" lvknnwnnvsmnnnnhn\"\n",
       " \"12-13 r\"  \" rrrpjrrrrrrtfrkwmr\""
      ]
     },
     "execution_count": 8,
     "metadata": {},
     "output_type": "execute_result"
    }
   ],
   "source": [
    "using DelimitedFiles\n",
    "pws = readdlm(\"input.txt\", ':', String)"
   ]
  },
  {
   "cell_type": "code",
   "execution_count": 37,
   "metadata": {},
   "outputs": [
    {
     "name": "stdout",
     "output_type": "stream",
     "text": [
      "622\n"
     ]
    }
   ],
   "source": [
    "z = 0\n",
    "for x in (1:1000)\n",
    "    # Get matching rule + PW\n",
    "    rule = pws[x, 1]\n",
    "    pw = lstrip(pws[x, 2])\n",
    "    \n",
    "    # Parse rule\n",
    "    s = split(rule, \"-\") \n",
    "    llim = parse(Float64, s[1])\n",
    "    ulim = parse(Float64, chop(s[2], tail = 2))\n",
    "    l = rule[end]\n",
    "    \n",
    "    # Check the PW\n",
    "    count = length(collect(eachmatch(Regex(string(l)), pw)))\n",
    "    if llim <= count <= ulim\n",
    "        z += 1\n",
    "    end\n",
    "end\n",
    "println(z)"
   ]
  },
  {
   "cell_type": "markdown",
   "metadata": {},
   "source": [
    "## Part 2"
   ]
  },
  {
   "cell_type": "code",
   "execution_count": 45,
   "metadata": {},
   "outputs": [
    {
     "name": "stdout",
     "output_type": "stream",
     "text": [
      "263\n"
     ]
    }
   ],
   "source": [
    "z2 = 0\n",
    "for x in (1:1000)\n",
    "    # Get matching rule + PW\n",
    "    rule = pws[x, 1]\n",
    "    pw = string(lstrip(pws[x, 2]))\n",
    "    \n",
    "    # Parse rule\n",
    "    s = split(rule, \"-\") \n",
    "    lpos = parse(Int, s[1])\n",
    "    rpos = parse(Int, chop(s[2], tail = 2))\n",
    "    l = rule[end]\n",
    "    \n",
    "    # Check the PW\n",
    "    lchar = pw[lpos]\n",
    "    rchar = pw[rpos]\n",
    "    if xor(lchar == l, rchar == l)\n",
    "        z2 += 1\n",
    "    end\n",
    "end\n",
    "println(z2)"
   ]
  },
  {
   "cell_type": "code",
   "execution_count": null,
   "metadata": {},
   "outputs": [],
   "source": []
  }
 ],
 "metadata": {
  "kernelspec": {
   "display_name": "Julia 1.5.2",
   "language": "julia",
   "name": "julia-1.5"
  },
  "language_info": {
   "file_extension": ".jl",
   "mimetype": "application/julia",
   "name": "julia",
   "version": "1.5.2"
  }
 },
 "nbformat": 4,
 "nbformat_minor": 4
}
