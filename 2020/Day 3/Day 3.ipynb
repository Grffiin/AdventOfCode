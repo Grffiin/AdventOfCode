{
 "cells": [
  {
   "cell_type": "code",
   "execution_count": 1,
   "metadata": {},
   "outputs": [],
   "source": [
    "file = readlines(\"input.txt\");"
   ]
  },
  {
   "cell_type": "code",
   "execution_count": 2,
   "metadata": {
    "scrolled": true
   },
   "outputs": [
    {
     "data": {
      "text/plain": [
       "323-element Array{String,1}:\n",
       " \"..#...##...###.........#..#..#.\"\n",
       " \"#.###........#..##.#......#...#\"\n",
       " \"#.#.###..#.#..#.#............#.\"\n",
       " \".##............#......#...#.#..\"\n",
       " \"..#..#.....##..##..##..........\"\n",
       " \"...#...........###.#.##........\"\n",
       " \"....#.#...#..#..##............#\"\n",
       " \"....#....##...##..##........#..\"\n",
       " \".#..#..#....#...#..##.....##...\"\n",
       " \".#.###..#......####........##..\"\n",
       " \"..#...###....#......#.....##.##\"\n",
       " \"..#...#.......#......#..##....#\"\n",
       " \"#...##....#.#..#.......#....#..\"\n",
       " ⋮\n",
       " \".#..###.......##........#.#....\"\n",
       " \".#...###.....#..#.#..#...#.##..\"\n",
       " \"##...###.#.#....#......#...#..#\"\n",
       " \"....#.......#..#..##..#.#......\"\n",
       " \"#.#......#.##..#......#..#....#\"\n",
       " \"....#..#..#.....#.#......#..#..\"\n",
       " \"..#...###......##.............#\"\n",
       " \"..#....####...##.#...##.#......\"\n",
       " \".....#.......###...............\"\n",
       " \".......#...#.#.......#.#.##.###\"\n",
       " \".#.#...#.....#...##.........#..\"\n",
       " \"..#..........#..#.........##...\""
      ]
     },
     "execution_count": 2,
     "metadata": {},
     "output_type": "execute_result"
    }
   ],
   "source": [
    "file"
   ]
  },
  {
   "cell_type": "code",
   "execution_count": 3,
   "metadata": {},
   "outputs": [
    {
     "data": {
      "text/plain": [
       "get_intersects (generic function with 1 method)"
      ]
     },
     "execution_count": 3,
     "metadata": {},
     "output_type": "execute_result"
    }
   ],
   "source": [
    "function get_intersects(f, rslope::Int, dslope::Int)\n",
    "    x = 1\n",
    "    y = 1\n",
    "    # assume all lines are the same length\n",
    "    len = length(f[1])\n",
    "    count = 0\n",
    "\n",
    "    while y <= size(f, 1)\n",
    "        # account for wrapping\n",
    "        in_x = mod(x-1, len) + 1\n",
    "        if f[y][in_x] == '#'\n",
    "            count += 1\n",
    "        end\n",
    "        # step to next x and y\n",
    "        x += rslope\n",
    "        y += dslope\n",
    "    end\n",
    "    \n",
    "    return count\n",
    "end    "
   ]
  },
  {
   "cell_type": "code",
   "execution_count": 4,
   "metadata": {},
   "outputs": [
    {
     "data": {
      "text/plain": [
       "205"
      ]
     },
     "execution_count": 4,
     "metadata": {},
     "output_type": "execute_result"
    }
   ],
   "source": [
    "get_intersects(file, 3, 1)"
   ]
  },
  {
   "cell_type": "markdown",
   "metadata": {},
   "source": [
    "## Part 2"
   ]
  },
  {
   "cell_type": "code",
   "execution_count": 5,
   "metadata": {},
   "outputs": [
    {
     "data": {
      "text/plain": [
       "3952146825"
      ]
     },
     "execution_count": 5,
     "metadata": {},
     "output_type": "execute_result"
    }
   ],
   "source": [
    "i1 = get_intersects(file, 1, 1)\n",
    "i2 = get_intersects(file, 3, 1)\n",
    "i3 = get_intersects(file, 5, 1)\n",
    "i4 = get_intersects(file, 7, 1)\n",
    "i5 = get_intersects(file, 1, 2)\n",
    "\n",
    "out = i1*i2*i3*i4*i5"
   ]
  },
  {
   "cell_type": "code",
   "execution_count": null,
   "metadata": {},
   "outputs": [],
   "source": []
  }
 ],
 "metadata": {
  "kernelspec": {
   "display_name": "Julia 1.5.2",
   "language": "julia",
   "name": "julia-1.5"
  },
  "language_info": {
   "file_extension": ".jl",
   "mimetype": "application/julia",
   "name": "julia",
   "version": "1.5.2"
  }
 },
 "nbformat": 4,
 "nbformat_minor": 4
}
