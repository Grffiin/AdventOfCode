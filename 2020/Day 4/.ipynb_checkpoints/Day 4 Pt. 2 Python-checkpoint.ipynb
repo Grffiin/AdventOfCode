{
 "cells": [
  {
   "cell_type": "code",
   "execution_count": 2,
   "metadata": {},
   "outputs": [],
   "source": [
    "import sys\n",
    "import re"
   ]
  },
  {
   "cell_type": "code",
   "execution_count": 3,
   "metadata": {},
   "outputs": [],
   "source": [
    "def load_data(filename):\n",
    "    with open(filename) as f:\n",
    "        data = f.read()\n",
    "    ids = data.split('\\n\\n')\n",
    "    \n",
    "    # Passports is a list of dictionaries, each dict is a passport\n",
    "    passports = []\n",
    "    for i in ids:\n",
    "        fields = i.split()\n",
    "        fields_dict = {}\n",
    "        for field in fields:\n",
    "            x, y = field.split(':')\n",
    "            fields_dict[x] = y\n",
    "        passports.append(fields_dict)\n",
    "    return passports"
   ]
  },
  {
   "cell_type": "code",
   "execution_count": 4,
   "metadata": {},
   "outputs": [],
   "source": [
    "# Verification methods\n",
    "def check_year(year, minimum, maximum):\n",
    "    if not re.match('(\\d){4}', year):\n",
    "        return False\n",
    "    return minimum <= int(year) <= maximum\n",
    " \n",
    "def byr(year):\n",
    "    return check_year(year, 1920, 2002)\n",
    " \n",
    "def iyr(year):\n",
    "    return check_year(year, 2010, 2020)\n",
    " \n",
    "def eyr(year):\n",
    "    return check_year(year, 2020, 2030)\n",
    "\n",
    "def ecl(color):\n",
    "    return color in set(['amb', 'blu', 'brn', 'gry', 'grn', 'hzl', 'oth'])\n",
    "\n",
    "def hcl(color):\n",
    "    if not re.match('^#([0-9]*|[a-f]*){6}$', color):\n",
    "        return False\n",
    "    return True\n",
    "\n",
    "def hgt(height):\n",
    "    if not re.match('^(\\d)+(in|cm)$', height):\n",
    "        return False\n",
    "    measurement = int(height[:-2])\n",
    "    if height.endswith('in'):\n",
    "        return 59 <= measurement <= 76\n",
    "    else:\n",
    "        return 150 <= measurement <= 193\n",
    " \n",
    "def pid(passport):\n",
    "    if re.match('^(\\d){9}$', passport):\n",
    "        return True\n",
    "    return False"
   ]
  },
  {
   "cell_type": "code",
   "execution_count": null,
   "metadata": {},
   "outputs": [],
   "source": [
    "# List of required fields will be supplied to validate, otherwise dispatch to the field's method above\n",
    "def validate(passport, fields):\n",
    "    for field, method in fields.items():\n",
    "        if field not in passport:\n",
    "            return False\n",
    "        if not method(passport[field]):\n",
    "            return False\n",
    "    return True"
   ]
  },
  {
   "cell_type": "code",
   "execution_count": 5,
   "metadata": {},
   "outputs": [],
   "source": [
    "# Running validate on passports\n",
    "def check_passports(passports):\n",
    "    count = 0\n",
    "    fields = {'byr': byr, 'iyr': iyr, 'eyr': eyr, 'hgt': hgt, 'hcl': hcl, 'ecl': ecl, 'pid': pid}\n",
    "    for passport in passports:\n",
    "        if validate(passport, fields):\n",
    "            count += 1\n",
    "    return count"
   ]
  },
  {
   "cell_type": "code",
   "execution_count": 7,
   "metadata": {},
   "outputs": [
    {
     "name": "stdout",
     "output_type": "stream",
     "text": [
      "Final answer: 172\n"
     ]
    }
   ],
   "source": [
    "# Run the file\n",
    "data = load_data('input.txt')\n",
    "print('Final answer: ' + str(check_passports(data)))"
   ]
  }
 ],
 "metadata": {
  "kernelspec": {
   "display_name": "Python 3",
   "language": "python",
   "name": "python3"
  },
  "language_info": {
   "codemirror_mode": {
    "name": "ipython",
    "version": 3
   },
   "file_extension": ".py",
   "mimetype": "text/x-python",
   "name": "python",
   "nbconvert_exporter": "python",
   "pygments_lexer": "ipython3",
   "version": "3.8.6"
  }
 },
 "nbformat": 4,
 "nbformat_minor": 4
}
