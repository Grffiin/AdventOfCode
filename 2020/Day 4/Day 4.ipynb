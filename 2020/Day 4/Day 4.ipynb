{
 "cells": [
  {
   "cell_type": "code",
   "execution_count": 2,
   "metadata": {
    "scrolled": true
   },
   "outputs": [
    {
     "data": {
      "text/plain": [
       "1136-element Array{String,1}:\n",
       " \"ecl:hzl byr:1926 iyr:2010\"\n",
       " \"pid:221225902 cid:61 hgt:186cm eyr:2021 hcl:#7d3b0c\"\n",
       " \"\"\n",
       " \"hcl:#efcc98 hgt:178 pid:433543520\"\n",
       " \"eyr:2020 byr:1926\"\n",
       " \"ecl:blu cid:92\"\n",
       " \"iyr:2010\"\n",
       " \"\"\n",
       " \"iyr:2018\"\n",
       " \"eyr:2026\"\n",
       " \"byr:1946 ecl:brn\"\n",
       " \"hcl:#b6652a hgt:158cm\"\n",
       " \"pid:822320101\"\n",
       " ⋮\n",
       " \"\"\n",
       " \"eyr:2021 hgt:184cm pid:431054313 hcl:#ceb3a1 cid:109 byr:1977 ecl:blu\"\n",
       " \"iyr:2011\"\n",
       " \"\"\n",
       " \"pid:006339126 hgt:177cm\"\n",
       " \"cid:188 hcl:#a97842\"\n",
       " \"iyr:1959\"\n",
       " \"ecl:xry\"\n",
       " \"\"\n",
       " \"byr:2000\"\n",
       " \"ecl:hzl eyr:2029\"\n",
       " \"iyr:2011 hcl:#866857 hgt:74in\""
      ]
     },
     "execution_count": 2,
     "metadata": {},
     "output_type": "execute_result"
    }
   ],
   "source": [
    "file = readlines(\"input.txt\");\n",
    "file"
   ]
  },
  {
   "cell_type": "code",
   "execution_count": 21,
   "metadata": {},
   "outputs": [],
   "source": [
    "passports = []\n",
    "cur = []\n",
    "for x in 1:length(file)\n",
    "    if file[x] == \"\"\n",
    "        push!(passports, cur)\n",
    "        cur = []\n",
    "    else\n",
    "        push!(cur, file[x])\n",
    "    end\n",
    "end\n",
    "push!(passports, cur);"
   ]
  },
  {
   "cell_type": "code",
   "execution_count": 28,
   "metadata": {},
   "outputs": [
    {
     "data": {
      "text/plain": [
       "Dict{Any,Any} with 8 entries:\n",
       "  \"hcl\" => \"#7d3b0c\"\n",
       "  \"ecl\" => \"hzl\"\n",
       "  \"pid\" => \"221225902\"\n",
       "  \"cid\" => \"61\"\n",
       "  \"iyr\" => \"2010\"\n",
       "  \"hgt\" => \"186cm\"\n",
       "  \"eyr\" => \"2021\"\n",
       "  \"byr\" => \"1926\""
      ]
     },
     "execution_count": 28,
     "metadata": {},
     "output_type": "execute_result"
    }
   ],
   "source": [
    "passdicts = []\n",
    "\n",
    "for passport in passports\n",
    "    dict = Dict()\n",
    "    for line in passport\n",
    "        enteries = split(line, \" \")\n",
    "        for entry in enteries\n",
    "            key_val = split(entry, \":\")\n",
    "            dict[key_val[1]] = key_val[2]\n",
    "        end\n",
    "    end\n",
    "    push!(passdicts, dict)\n",
    "end"
   ]
  },
  {
   "cell_type": "code",
   "execution_count": 31,
   "metadata": {},
   "outputs": [
    {
     "name": "stdout",
     "output_type": "stream",
     "text": [
      "237\n"
     ]
    }
   ],
   "source": [
    "count = 0\n",
    "for dict in passdicts\n",
    "    invalid = false\n",
    "    for x in [\"byr\", \"iyr\", \"eyr\", \"hgt\", \"hcl\", \"ecl\", \"pid\"]\n",
    "        if get(dict, x, false) == false\n",
    "            invalid = true\n",
    "            break\n",
    "        end\n",
    "    end\n",
    "    if !invalid\n",
    "        count += 1\n",
    "    end\n",
    "end\n",
    "\n",
    "println(count)"
   ]
  },
  {
   "cell_type": "markdown",
   "metadata": {},
   "source": [
    "## Part 2"
   ]
  },
  {
   "cell_type": "markdown",
   "metadata": {},
   "source": [
    "### Note\n",
    "I know this is a terrible way of doing this, I've decided I don't like Julia anymore so I'll be switching to Python for the next section... So screw it."
   ]
  },
  {
   "cell_type": "code",
   "execution_count": 45,
   "metadata": {},
   "outputs": [
    {
     "ename": "LoadError",
     "evalue": "MethodError: no method matching parse(::SubString{String}, ::Type{Int64})",
     "output_type": "error",
     "traceback": [
      "MethodError: no method matching parse(::SubString{String}, ::Type{Int64})",
      "",
      "Stacktrace:",
      " [1] top-level scope at .\\In[45]:4",
      " [2] include_string(::Function, ::Module, ::String, ::String) at .\\loading.jl:1091",
      " [3] execute_code(::String, ::String) at C:\\Users\\Griffin\\.julia\\packages\\IJulia\\rWZ9e\\src\\execute_request.jl:27",
      " [4] execute_request(::ZMQ.Socket, ::IJulia.Msg) at C:\\Users\\Griffin\\.julia\\packages\\IJulia\\rWZ9e\\src\\execute_request.jl:86",
      " [5] #invokelatest#1 at .\\essentials.jl:710 [inlined]",
      " [6] invokelatest at .\\essentials.jl:709 [inlined]",
      " [7] eventloop(::ZMQ.Socket) at C:\\Users\\Griffin\\.julia\\packages\\IJulia\\rWZ9e\\src\\eventloop.jl:8",
      " [8] (::IJulia.var\"#15#18\")() at .\\task.jl:356"
     ]
    }
   ],
   "source": [
    "for dict in passdicts\n",
    "    invalid = false\n",
    "    #byr check\n",
    "    if (get(dict, \"byr\", false) == false) || !(1920 <= parse((get(dict, \"byr\", false)), Int) <= 2002) || !(length(get(dict, \"byr\", false)) == 4)\n",
    "        invalid = true\n",
    "    end\n",
    "        \n",
    "    #iyr check\n",
    "    if !(get(dict, \"iyr\", false) == false) || !(2010 <= parse((get(dict, \"iyr\")), Int) <= 2020) || !(length(get(dict, \"iyr\")) == 4)\n",
    "        invalid = true\n",
    "    end\n",
    "            \n",
    "    #eyr check\n",
    "    \n",
    "    \n",
    "    #hgt check\n",
    "    \n",
    "    #hcl check\n",
    "    \n",
    "    #ecl check\n",
    "    \n",
    "    #pid check\n",
    "\n",
    "    if !invalid\n",
    "        count += 1\n",
    "    end\n",
    "end"
   ]
  },
  {
   "cell_type": "code",
   "execution_count": null,
   "metadata": {},
   "outputs": [],
   "source": [
    "# define passport class\n",
    "struct Passport\n",
    "    byr::Int =\n",
    "    iyr::Int\n",
    "    eyr::Int\n",
    "    hgt::Int\n",
    "    hcl::Int\n",
    "    ecl::Int\n",
    "    pid::Int\n",
    "    cid::Int\n",
    "end"
   ]
  }
 ],
 "metadata": {
  "kernelspec": {
   "display_name": "Julia 1.5.2",
   "language": "julia",
   "name": "julia-1.5"
  },
  "language_info": {
   "file_extension": ".jl",
   "mimetype": "application/julia",
   "name": "julia",
   "version": "1.5.2"
  }
 },
 "nbformat": 4,
 "nbformat_minor": 4
}
